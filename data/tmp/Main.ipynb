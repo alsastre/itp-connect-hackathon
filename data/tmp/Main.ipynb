{
 "cells": [
  {
   "cell_type": "code",
   "execution_count": 6,
   "metadata": {},
   "outputs": [],
   "source": [
    "import pandas as pd\n",
    "from neo4j import GraphDatabase  "
   ]
  },
  {
   "cell_type": "code",
   "execution_count": 7,
   "metadata": {},
   "outputs": [],
   "source": [
    "df = pd.read_csv(\"data/laundromat.csv\", low_memory=False, );"
   ]
  },
  {
   "cell_type": "code",
   "execution_count": 8,
   "metadata": {},
   "outputs": [],
   "source": [
    "df_isna = df.isna()"
   ]
  },
  {
   "cell_type": "code",
   "execution_count": 9,
   "metadata": {},
   "outputs": [],
   "source": [
    "neo_driver = GraphDatabase.driver(\"bolt://localhost:7687/facrec\", auth=(\"neo4j\", \"facrec\"))\n",
    "columns = [\"bid\", \"pid\", \"payer_name\", \"payer_bank\", \"beneficiary_name\", \"beneficiary_account\"]"
   ]
  },
  {
   "cell_type": "code",
   "execution_count": 12,
   "metadata": {},
   "outputs": [],
   "source": [
    "# len(df[df_isna[\"payer_name\"] == False]) # total num of filled lines\n",
    "\n",
    "# len(df.payer_account.unique()) # distinct count of payers\n",
    "\n",
    "df[\"pid\"] = df[\"payer_name\"].map(str) + \"&\" + df[\"payer_account\"].map(str)\n",
    "df[\"bid\"] = df[\"beneficiary_name\"].map(str) + \"&\" + df[\"beneficiary_account\"].map(str)\n",
    "df_result = df[columns].drop_duplicates()"
   ]
  },
  {
   "cell_type": "code",
   "execution_count": 14,
   "metadata": {},
   "outputs": [],
   "source": [
    "df_result.to_csv(\"./data/cleaned.csv\", columns=columns, index=False)"
   ]
  },
  {
   "cell_type": "code",
   "execution_count": null,
   "metadata": {},
   "outputs": [],
   "source": []
  }
 ],
 "metadata": {
  "kernelspec": {
   "display_name": "Python 3",
   "language": "python",
   "name": "python3"
  },
  "language_info": {
   "codemirror_mode": {
    "name": "ipython",
    "version": 3
   },
   "file_extension": ".py",
   "mimetype": "text/x-python",
   "name": "python",
   "nbconvert_exporter": "python",
   "pygments_lexer": "ipython3",
   "version": "3.7.3"
  }
 },
 "nbformat": 4,
 "nbformat_minor": 2
}
